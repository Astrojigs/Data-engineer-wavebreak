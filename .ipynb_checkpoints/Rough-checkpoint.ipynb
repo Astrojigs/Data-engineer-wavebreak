{
 "cells": [
  {
   "cell_type": "code",
   "execution_count": 1,
   "id": "dc3d21e7",
   "metadata": {},
   "outputs": [
    {
     "name": "stderr",
     "output_type": "stream",
     "text": [
      "c:\\users\\astro\\appdata\\local\\programs\\python\\python38\\lib\\site-packages\\numpy\\_distributor_init.py:30: UserWarning: loaded more than 1 DLL from .libs:\n",
      "c:\\users\\astro\\appdata\\local\\programs\\python\\python38\\lib\\site-packages\\numpy\\.libs\\libopenblas.el2c6ple4zyw3eceviv3oxxgrn2nrfm2.gfortran-win_amd64.dll\n",
      "c:\\users\\astro\\appdata\\local\\programs\\python\\python38\\lib\\site-packages\\numpy\\.libs\\libopenblas.PYQHXLVVQ7VESDPUVUADXEVJOBGHJPAY.gfortran-win_amd64.dll\n",
      "  warnings.warn(\"loaded more than 1 DLL from .libs:\"\n"
     ]
    }
   ],
   "source": [
    "import numpy as np\n",
    "import matplotlib.pyplot as plt\n",
    "import cv2\n",
    "import os\n",
    "from PIL import Image\n"
   ]
  },
  {
   "cell_type": "code",
   "execution_count": 9,
   "id": "bf4e0654",
   "metadata": {},
   "outputs": [],
   "source": [
    "\n",
    "image_path = \"C:/Users/astro/Pictures/resume_photo.jpg\"\n",
    "output_dir = os.path.dirname(image_path)\n",
    "face_folder_path = os.path.join(output_dir, f\"Faces for {os.path.basename(image_path)}\")\n",
    "try:\n",
    "    os.makedirs(face_folder_path)\n",
    "except FileExistsError:\n",
    "    print(f'Directory {face_folder_path} already exists')"
   ]
  },
  {
   "cell_type": "code",
   "execution_count": 10,
   "id": "1df89cf0",
   "metadata": {},
   "outputs": [
    {
     "name": "stdout",
     "output_type": "stream",
     "text": [
      "2 faces detected in the image\n"
     ]
    }
   ],
   "source": [
    "# Load the Haar Cascade classifier for face detection\n",
    "face_cascade = cv2.CascadeClassifier('haarcascades_frontalface_default.xml')\n",
    "\n",
    "def detect_faces(image_path, output_dir):\n",
    "    # Load the image using matplotlib (RGB format)\n",
    "    image = plt.imread(image_path)\n",
    "    gray = cv2.cvtColor(image, cv2.COLOR_RGB2GRAY)\n",
    "\n",
    "    # Use the classifier to detect faces in the image\n",
    "    faces = face_cascade.detectMultiScale(gray, 1.3, 5)\n",
    "\n",
    "    # Save the headshots of the detected faces\n",
    "    i = 1\n",
    "    for (x,y,w,h) in faces:\n",
    "        headshot = image[y:y+h, x:x+w]\n",
    "        #headshot = cv2.cvtColor(headshot, cv2.COLOR_BGR2RGB)\n",
    "        headshot = Image.fromarray(obj = headshot)\n",
    "        headshot.save(os.path.join(path = f\"{output_dir}/face_{i}.jpg\"))\n",
    "        i += 1\n",
    "\n",
    "    return len(faces)\n",
    "\n",
    "\n",
    "image_path = \"C:/Users/astro/Pictures/resume_photo.jpg\"\n",
    "output_dir = os.path.dirname(image_path)\n",
    "face_folder_path = os.path.join(output_dir, f\"Faces for {os.path.basename(image_path)}\")\n",
    "try:\n",
    "    os.makedirs(face_folder_path)\n",
    "except FileExistsError:\n",
    "    print(f'Directory {face_folder_path} already exists')\n",
    "    \n",
    "num_faces = detect_faces(image_path, face_folder_path)\n",
    "print('{} faces detected in the image'.format(num_faces))\n"
   ]
  },
  {
   "cell_type": "code",
   "execution_count": null,
   "id": "16f63b65",
   "metadata": {},
   "outputs": [],
   "source": []
  }
 ],
 "metadata": {
  "kernelspec": {
   "display_name": "Python 3",
   "language": "python",
   "name": "python3"
  },
  "language_info": {
   "codemirror_mode": {
    "name": "ipython",
    "version": 3
   },
   "file_extension": ".py",
   "mimetype": "text/x-python",
   "name": "python",
   "nbconvert_exporter": "python",
   "pygments_lexer": "ipython3",
   "version": "3.8.0"
  }
 },
 "nbformat": 4,
 "nbformat_minor": 5
}
