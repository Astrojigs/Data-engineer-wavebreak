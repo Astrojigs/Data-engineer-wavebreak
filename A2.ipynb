{
 "cells": [
  {
   "cell_type": "markdown",
   "id": "f8c6e3a8",
   "metadata": {},
   "source": [
    "Move all image files from one S3 bucket to another S3 bucket, but only if the image has no transparent pixels.\n",
    "\n",
    "Objective: Write a Python script that uses the Boto3 library to accomplish the following:\n",
    "\n",
    "* List all the image files in a given S3 bucket\n",
    "* Check if each image file has transparent pixels\n",
    "* If an image file has no transparent pixels, copy it to a different S3 bucket\n",
    "* If an image file has transparent pixels, log it in a separate file\n",
    "\n",
    "Guidelines:\n",
    "\n",
    "* Your script should take the name of the source and destination buckets as input\n",
    "* You should use the Boto3 library to interact with S3\n",
    "* You should use the Pillow library to check for transparent pixels in an image\n",
    "* Your script should handle any errors that may occur during the opening of image file, copy process and anywhere else you deem necessary\n",
    "* Your script should be well commented and easy to understand\n",
    "* Your script should be executed from the command line"
   ]
  },
  {
   "cell_type": "code",
   "execution_count": 2,
   "id": "9fb31677",
   "metadata": {},
   "outputs": [
    {
     "name": "stderr",
     "output_type": "stream",
     "text": [
      "usage: ipykernel_launcher.py [-h] src_folder dst_bucket\n",
      "ipykernel_launcher.py: error: the following arguments are required: dst_bucket\n"
     ]
    },
    {
     "ename": "SystemExit",
     "evalue": "2",
     "output_type": "error",
     "traceback": [
      "An exception has occurred, use %tb to see the full traceback.\n",
      "\u001b[1;31mSystemExit\u001b[0m\u001b[1;31m:\u001b[0m 2\n"
     ]
    },
    {
     "name": "stderr",
     "output_type": "stream",
     "text": [
      "c:\\users\\astro\\appdata\\local\\programs\\python\\python38\\lib\\site-packages\\IPython\\core\\interactiveshell.py:3425: UserWarning: To exit: use 'exit', 'quit', or Ctrl-D.\n",
      "  warn(\"To exit: use 'exit', 'quit', or Ctrl-D.\", stacklevel=1)\n"
     ]
    }
   ],
   "source": [
    "import boto3\n",
    "from PIL import Image\n",
    "import logging\n",
    "import os\n",
    "\n",
    "def move_images(src_folder, dst_bucket):\n",
    "    # Connect to S3\n",
    "    s3 = boto3.resource('s3')\n",
    "    dst = s3.Bucket(dst_bucket)\n",
    "\n",
    "    # Create a logger\n",
    "    logger = logging.getLogger()\n",
    "    logger.setLevel(logging.INFO)\n",
    "\n",
    "    # Loop through all files in the source folder\n",
    "    for filename in os.listdir(src_folder):\n",
    "        file_path = os.path.join(src_folder, filename)\n",
    "        # Check if the file is an image file\n",
    "        if filename.endswith('.png') or filename.endswith('.jpg') or filename.endswith('.jpeg'):\n",
    "            try:\n",
    "                # Open the image file\n",
    "                img = Image.open(file_path)\n",
    "\n",
    "                # Check if the image has no transparent pixels\n",
    "                if not img.getbbox():\n",
    "                    # Copy the image file to the destination bucket\n",
    "                    dst.upload_file(file_path, filename)\n",
    "                else:\n",
    "                    # Log the image file that has transparent pixels\n",
    "                    logger.info('{} has transparent pixels'.format(filename))\n",
    "            except Exception as e:\n",
    "                # Log the error\n",
    "                logger.error('Error while processing {}: {}'.format(filename, e))\n",
    "\n",
    "\n",
    "    import argparse\n",
    "\n",
    "    # Parse the command line arguments\n",
    "    parser = argparse.ArgumentParser(description='Move image files without transparent pixels from a local folder to an S3 bucket')\n",
    "    parser.add_argument('src_folder', type=str, help='The path to the source folder')\n",
    "    parser.add_argument('dst_bucket', type=str, help='The name of the destination S3 bucket')\n",
    "    args = parser.parse_args()\n",
    "\n",
    "    # Call the function to move the images\n",
    "    move_images(args.src_folder, args.dst_bucket)\n"
   ]
  },
  {
   "cell_type": "code",
   "execution_count": null,
   "id": "3fdf3906",
   "metadata": {},
   "outputs": [],
   "source": []
  }
 ],
 "metadata": {
  "kernelspec": {
   "display_name": "Python 3",
   "language": "python",
   "name": "python3"
  },
  "language_info": {
   "codemirror_mode": {
    "name": "ipython",
    "version": 3
   },
   "file_extension": ".py",
   "mimetype": "text/x-python",
   "name": "python",
   "nbconvert_exporter": "python",
   "pygments_lexer": "ipython3",
   "version": "3.8.0"
  }
 },
 "nbformat": 4,
 "nbformat_minor": 5
}
