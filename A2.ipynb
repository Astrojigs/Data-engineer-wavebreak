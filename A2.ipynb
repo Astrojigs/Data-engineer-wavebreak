{
 "cells": [
  {
   "cell_type": "markdown",
   "id": "c197759b",
   "metadata": {},
   "source": [
    "Move all image files from one S3 bucket to another S3 bucket, but only if the image has no transparent pixels.\n",
    "\n",
    "Objective: Write a Python script that uses the Boto3 library to accomplish the following:\n",
    "\n",
    "* List all the image files in a given S3 bucket\n",
    "* Check if each image file has transparent pixels\n",
    "* If an image file has no transparent pixels, copy it to a different S3 bucket\n",
    "* If an image file has transparent pixels, log it in a separate file\n",
    "\n",
    "Guidelines:\n",
    "\n",
    "* Your script should take the name of the source and destination buckets as input\n",
    "* You should use the Boto3 library to interact with S3\n",
    "* You should use the Pillow library to check for transparent pixels in an image\n",
    "* Your script should handle any errors that may occur during the opening of image file, copy process and anywhere else you deem necessary\n",
    "* Your script should be well commented and easy to understand\n",
    "* Your script should be executed from the command line"
   ]
  },
  {
   "cell_type": "code",
   "execution_count": 116,
   "id": "dc70c006",
   "metadata": {},
   "outputs": [],
   "source": [
    "import boto3\n",
    "import os\n",
    "from PIL import Image\n",
    "s3 = boto3.client(\"s3\")"
   ]
  },
  {
   "cell_type": "markdown",
   "id": "243d0eec",
   "metadata": {},
   "source": [
    "## Creating Buckets"
   ]
  },
  {
   "cell_type": "code",
   "execution_count": 117,
   "id": "43f3762f",
   "metadata": {},
   "outputs": [],
   "source": [
    "source_bucket = \"astro-source-wavebreak\"\n",
    "dest_bucket = \"astro-dest-wavebreak\""
   ]
  },
  {
   "cell_type": "code",
   "execution_count": 118,
   "id": "9a4db8af",
   "metadata": {
    "scrolled": false
   },
   "outputs": [
    {
     "data": {
      "text/plain": [
       "{'ResponseMetadata': {'RequestId': 'PND58Z658NDTH6A0',\n",
       "  'HostId': 'bA4hvEXPIgCOFWembTZfG2qzaSfg/DIknTUkUp/1MN8O0Jlq8cSkF+aVLcqS5w0pMC0WXJuCAFc=',\n",
       "  'HTTPStatusCode': 200,\n",
       "  'HTTPHeaders': {'x-amz-id-2': 'bA4hvEXPIgCOFWembTZfG2qzaSfg/DIknTUkUp/1MN8O0Jlq8cSkF+aVLcqS5w0pMC0WXJuCAFc=',\n",
       "   'x-amz-request-id': 'PND58Z658NDTH6A0',\n",
       "   'date': 'Thu, 02 Feb 2023 18:32:50 GMT',\n",
       "   'location': '/astro-source-wavebreak',\n",
       "   'server': 'AmazonS3',\n",
       "   'content-length': '0'},\n",
       "  'RetryAttempts': 0},\n",
       " 'Location': '/astro-source-wavebreak'}"
      ]
     },
     "execution_count": 118,
     "metadata": {},
     "output_type": "execute_result"
    }
   ],
   "source": [
    "s3.create_bucket(Bucket = source_bucket) # Source bucket"
   ]
  },
  {
   "cell_type": "code",
   "execution_count": 119,
   "id": "c1bae29a",
   "metadata": {},
   "outputs": [
    {
     "data": {
      "text/plain": [
       "{'ResponseMetadata': {'RequestId': 'PND6B568ATHAVF2Y',\n",
       "  'HostId': 'ZLGflegW/OVJGTKa28azs/5j6l8Y7aY4Y7aMVO3ivsTl5TwIdshqig9uvi1KITZi12xjXUw1nxU=',\n",
       "  'HTTPStatusCode': 200,\n",
       "  'HTTPHeaders': {'x-amz-id-2': 'ZLGflegW/OVJGTKa28azs/5j6l8Y7aY4Y7aMVO3ivsTl5TwIdshqig9uvi1KITZi12xjXUw1nxU=',\n",
       "   'x-amz-request-id': 'PND6B568ATHAVF2Y',\n",
       "   'date': 'Thu, 02 Feb 2023 18:32:50 GMT',\n",
       "   'location': '/astro-dest-wavebreak',\n",
       "   'server': 'AmazonS3',\n",
       "   'content-length': '0'},\n",
       "  'RetryAttempts': 0},\n",
       " 'Location': '/astro-dest-wavebreak'}"
      ]
     },
     "execution_count": 119,
     "metadata": {},
     "output_type": "execute_result"
    }
   ],
   "source": [
    "s3.create_bucket(Bucket = dest_bucket) # Destination bucket"
   ]
  },
  {
   "cell_type": "markdown",
   "id": "bff4d49b",
   "metadata": {},
   "source": [
    "Copying all images in the source bucket:"
   ]
  },
  {
   "cell_type": "code",
   "execution_count": 120,
   "id": "281eef5d",
   "metadata": {},
   "outputs": [],
   "source": [
    "# The local folder that contains the images\n",
    "local_folder = \"C:/Users/astro/Documents/GitHub/Data-engineer-wavebreak/Images/Faces from (Nice Adults1)\"\n",
    "\n",
    "# Iterate through all the files in the local folder\n",
    "for filename in os.listdir(local_folder):\n",
    "    # Check if the file is an image\n",
    "    if filename.endswith(\".jpg\") or filename.endswith(\".jpeg\") or filename.endswith(\".png\"):\n",
    "        # Construct the full path to the file\n",
    "        file_path = os.path.join(local_folder, filename)\n",
    "        # Upload the file to the S3 bucket\n",
    "        s3.upload_file(file_path, source_bucket, filename)"
   ]
  },
  {
   "cell_type": "markdown",
   "id": "28960d19",
   "metadata": {},
   "source": [
    "## Checking items in a bucket"
   ]
  },
  {
   "cell_type": "code",
   "execution_count": 121,
   "id": "25a9a8c1",
   "metadata": {},
   "outputs": [],
   "source": [
    "def check_bucket(bucket_name):\n",
    "    \"\"\"\n",
    "    Prints out the number of items in the bucket.\"\"\"\n",
    "    # Connect to S3 using the default session\n",
    "    s3 = boto3.resource(\"s3\")\n",
    "\n",
    "    # Specify the name of the bucket\n",
    "    bucket_name = bucket_name\n",
    "\n",
    "    # Get a reference to the bucket\n",
    "    bucket = s3.Bucket(bucket_name)\n",
    "\n",
    "    # Iterate over the objects in the bucket\n",
    "    for obj in bucket.objects.all():\n",
    "        print(obj.key)\n",
    "    print(\"**Note:** Make sure to define s3 again.\")"
   ]
  },
  {
   "cell_type": "code",
   "execution_count": 122,
   "id": "d5da1463",
   "metadata": {},
   "outputs": [],
   "source": [
    "# check_bucket(source_bucket)"
   ]
  },
  {
   "cell_type": "markdown",
   "id": "b2c2bbc8",
   "metadata": {},
   "source": [
    "## Deleting Items in a Bucket:"
   ]
  },
  {
   "cell_type": "code",
   "execution_count": 123,
   "id": "40f4f107",
   "metadata": {},
   "outputs": [],
   "source": [
    "def delete_items_bucket(bucket_name):\n",
    "\n",
    "    s3 = boto3.resource(\"s3\")\n",
    "\n",
    "    # Specify the name of the bucket\n",
    "    bucket_name = source_bucket\n",
    "\n",
    "    # Get a reference to the bucket\n",
    "    bucket = s3.Bucket(bucket_name)\n",
    "\n",
    "    # Collect a list of objects to delete\n",
    "    objects_to_delete = [{\"Key\": obj.key} for obj in bucket.objects.all()]\n",
    "\n",
    "    # Delete the objects in the list\n",
    "    bucket.delete_objects(Delete={ \"Objects\": objects_to_delete })\n",
    "    print(\"**Note:** Make sure to define s3 again.\")"
   ]
  },
  {
   "cell_type": "code",
   "execution_count": 124,
   "id": "7972970c",
   "metadata": {},
   "outputs": [],
   "source": [
    "# delete_items_bucket(source_bucket)"
   ]
  },
  {
   "cell_type": "code",
   "execution_count": 125,
   "id": "1d3228cb",
   "metadata": {},
   "outputs": [],
   "source": [
    "def has_transparency(img_path):\n",
    "    # Open the image\n",
    "    img = Image.open(img_path)\n",
    "    # Check if the image has an alpha channel (i.e., transparency)\n",
    "    return img.mode in (\"RGBA\", \"LA\") and img.getchannel(\"A\").getextrema()[1] > 0"
   ]
  },
  {
   "cell_type": "code",
   "execution_count": 126,
   "id": "6ad57fb1",
   "metadata": {},
   "outputs": [
    {
     "name": "stdout",
     "output_type": "stream",
     "text": [
      "Image has no transparent pixels: Saving in another bucket.\n",
      "Image has no transparent pixels: Saving in another bucket.\n",
      "Image has no transparent pixels: Saving in another bucket.\n",
      "Image has no transparent pixels: Saving in another bucket.\n",
      "Image has no transparent pixels: Saving in another bucket.\n",
      "Image has no transparent pixels: Saving in another bucket.\n",
      "Image has no transparent pixels: Saving in another bucket.\n",
      "Image has no transparent pixels: Saving in another bucket.\n",
      "Image has no transparent pixels: Saving in another bucket.\n"
     ]
    }
   ],
   "source": [
    "result = s3.list_objects(Bucket=source_bucket)\n",
    "\n",
    "# Get the list of objects from the result\n",
    "objects = result.get(\"Contents\")\n",
    "\n",
    "# Log file to store the names of images with transparent pixels\n",
    "log_file = open(\"transparent_images.log\", \"w\")\n",
    "\n",
    "# Loop through the objects in the source bucket\n",
    "for obj in objects:\n",
    "    # Get the key (i.e., the name) of the object\n",
    "    key = obj.get(\"Key\")\n",
    "\n",
    "    # Download the object from the source bucket\n",
    "    s3.download_file(source_bucket, key, key)\n",
    "\n",
    "    # Check if the image has any transparent pixels\n",
    "    if has_transparency(key):\n",
    "        # If the image has transparent pixels, log it in the log file\n",
    "        log_file.write(f\"{key}\\n\")\n",
    "        print(\"Image has transparent pixels. Saving in Log\")\n",
    "    else:\n",
    "        # If the image does not have transparent pixels, transfer it to the destination bucket\n",
    "        print(\"Image has no transparent pixels: Saving in another bucket.\")\n",
    "        s3.upload_file(key, dest_bucket, key)\n",
    "\n",
    "# Close the log file\n",
    "log_file.close()"
   ]
  },
  {
   "cell_type": "code",
   "execution_count": 127,
   "id": "00efa94b",
   "metadata": {},
   "outputs": [
    {
     "name": "stdout",
     "output_type": "stream",
     "text": [
      "face_1.png\n",
      "face_2.png\n",
      "face_3.png\n",
      "face_4.png\n",
      "face_5.png\n",
      "face_6.png\n",
      "face_7.png\n",
      "face_8.png\n",
      "face_9.png\n",
      "**Note:** Make sure to define s3 again.\n"
     ]
    }
   ],
   "source": [
    "check_bucket(dest_bucket)"
   ]
  }
 ],
 "metadata": {
  "kernelspec": {
   "display_name": "Python 3",
   "language": "python",
   "name": "python3"
  },
  "language_info": {
   "codemirror_mode": {
    "name": "ipython",
    "version": 3
   },
   "file_extension": ".py",
   "mimetype": "text/x-python",
   "name": "python",
   "nbconvert_exporter": "python",
   "pygments_lexer": "ipython3",
   "version": "3.8.0"
  }
 },
 "nbformat": 4,
 "nbformat_minor": 5
}
