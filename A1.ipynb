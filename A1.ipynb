{
 "cells": [
  {
   "cell_type": "code",
   "execution_count": 18,
   "id": "27614279",
   "metadata": {},
   "outputs": [],
   "source": [
    "import numpy as np\n",
    "import matplotlib.pyplot as plt\n",
    "import cv2\n",
    "import os\n",
    "from PIL import Image\n"
   ]
  },
  {
   "cell_type": "code",
   "execution_count": 19,
   "id": "a48ddf46",
   "metadata": {},
   "outputs": [],
   "source": [
    "image_path = \"C:/Users/astro/Pictures/resume_photo.jpg\"\n",
    "output_dir = os.path.dirname(image_path)\n",
    "face_folder_path = os.path.join(output_dir, f\"Faces for {os.path.basename(image_path)}\")\n",
    "try:\n",
    "    os.makedirs(face_folder_path)\n",
    "except FileExistsError:\n",
    "    print(f'Directory {face_folder_path} already exists')"
   ]
  },
  {
   "cell_type": "code",
   "execution_count": 29,
   "id": "dd181346",
   "metadata": {},
   "outputs": [],
   "source": [
    "# Load the Haar Cascade classifier for face detection\n",
    "face_cascade = cv2.CascadeClassifier('haarcascades_frontalface_default.xml')\n",
    "\n",
    "def detect_faces(image_path):\n",
    "    \"\"\"\n",
    "    Pulls out the faces from an images and stores it in a folder.\n",
    "    \n",
    "    example:\n",
    "        image_path = path/to/folder/image.jpg\n",
    "        \n",
    "        The facial images will be in the folder: path/to/folder/Faces for image.jpg\"\"\"\n",
    "    # Load the image using matplotlib (RGB format)\n",
    "    image = plt.imread(image_path)\n",
    "    gray = cv2.cvtColor(image, cv2.COLOR_RGB2GRAY)\n",
    "\n",
    "    # Use the classifier to detect faces in the image\n",
    "    faces = face_cascade.detectMultiScale(gray, 1.2, 5) # 1.2 = scale factor || 5 = minimum number of neighbours\n",
    "\n",
    "    # Count the number of faces detected\n",
    "    n_face = 1\n",
    "    \n",
    "    output_dir = os.path.dirname(image_path)\n",
    "    face_folder_path = os.path.join(output_dir, f\"Faces from ({os.path.splitext(os.path.basename(image_path))[0]})\")\n",
    "\n",
    "    # Check if directory already exists\n",
    "    try:\n",
    "        os.makedirs(face_folder_path)\n",
    "    except FileExistsError:\n",
    "        print(f'Directory {face_folder_path} already exists.')\n",
    "        \n",
    "    # Iterate through the faces\n",
    "    for face in faces:\n",
    "        # Get the Coordinates of the faces\n",
    "        x,y,w,h = face\n",
    "        \n",
    "        headshot = image[y:y+h, x:x+w]\n",
    "        headshot = Image.fromarray(obj = headshot)\n",
    "        headshot.save(os.path.join(path = f\"{face_folder_path}/face_{n_face}.jpg\"))\n",
    "        n_face += 1\n",
    "\n",
    "    return len(faces)"
   ]
  },
  {
   "cell_type": "code",
   "execution_count": 30,
   "id": "58faf4ea",
   "metadata": {},
   "outputs": [
    {
     "name": "stdout",
     "output_type": "stream",
     "text": [
      "25 faces detected in the image\n"
     ]
    }
   ],
   "source": [
    "image_path = \"C:/Users/astro/Documents/GitHub/Data-engineer-wavebreak/Images/different people 1.jpg\"\n",
    "\n",
    "# Run the function:\n",
    "num_faces = detect_faces(image_path)\n",
    "\n",
    "print(f'{num_faces} faces detected in the image \\n Images saved in {face_folder_path}')"
   ]
  }
 ],
 "metadata": {
  "kernelspec": {
   "display_name": "Python 3",
   "language": "python",
   "name": "python3"
  },
  "language_info": {
   "codemirror_mode": {
    "name": "ipython",
    "version": 3
   },
   "file_extension": ".py",
   "mimetype": "text/x-python",
   "name": "python",
   "nbconvert_exporter": "python",
   "pygments_lexer": "ipython3",
   "version": "3.8.0"
  }
 },
 "nbformat": 4,
 "nbformat_minor": 5
}
